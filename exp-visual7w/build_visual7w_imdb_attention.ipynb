{
 "cells": [
  {
   "cell_type": "code",
   "execution_count": null,
   "metadata": {
    "collapsed": false
   },
   "outputs": [],
   "source": [
    "cd .."
   ]
  },
  {
   "cell_type": "code",
   "execution_count": null,
   "metadata": {
    "collapsed": true
   },
   "outputs": [],
   "source": [
    "import os\n",
    "import numpy as np\n",
    "\n",
    "import util.io"
   ]
  },
  {
   "cell_type": "code",
   "execution_count": null,
   "metadata": {
    "collapsed": false
   },
   "outputs": [],
   "source": [
    "DATA_FILE = './exp-visual7w/visual7w-dataset/datasets/visual7w-pointing/dataset.json'\n",
    "IMAGE_DIR = './exp-visual7w/visual7w-dataset/images/'\n",
    "QA_PAIRS = './exp-visual7w/data/all_qa_pairs_relationship.json'\n",
    "RPN_PROPOSALS = './exp-visual7w/data/visual7w_proposals_all.npy'\n",
    "\n",
    "data = util.io.load_json(DATA_FILE)\n",
    "all_qa_pairs = util.io.load_json(QA_PAIRS)\n",
    "\n",
    "rpn_proposals = util.io.load_numpy_obj(RPN_PROPOSALS)"
   ]
  },
  {
   "cell_type": "code",
   "execution_count": null,
   "metadata": {
    "collapsed": true
   },
   "outputs": [],
   "source": [
    "def _convert_bbox(old_bbox):\n",
    "    x, y, w, h = old_bbox['x'], old_bbox['y'], old_bbox['width'], old_bbox['height']\n",
    "    bbox = [x, y, x+w-1, y+h-1]\n",
    "    return bbox\n",
    "\n",
    "data_images = data['images']\n",
    "data_bboxes = data['boxes']\n",
    "bbox_map = {box['box_id']: _convert_bbox(box) for box in data_bboxes}\n",
    "qa_rel_map = {qa_pair['qa_id']: qa_pair['relationship'] for qa_pair in all_qa_pairs}"
   ]
  },
  {
   "cell_type": "code",
   "execution_count": null,
   "metadata": {
    "collapsed": false
   },
   "outputs": [],
   "source": [
    "# imdb_format:\n",
    "#   a list of images\n",
    "# each image:\n",
    "#   a dict\n",
    "#   { \"image_path\": \"...\",\n",
    "#     \"processed_qa_pairs\": ([[x1, y1, x2, y2], ...], sentence, label),\n",
    "#     \"split\": \"train\" }\n",
    "\n",
    "# Here we use a different type of format:\n",
    "imdb = []\n",
    "for data_img in data_images:\n",
    "    filename = data_img['filename']\n",
    "    image_path = os.path.join(IMAGE_DIR, filename)\n",
    "    split = data_img['split']\n",
    "    \n",
    "    processed_qa_pairs = []\n",
    "    for qa_pair in data_img['qa_pairs']:\n",
    "        # put the ground-truth bounding box at the beginning\n",
    "        bboxes = [bbox_map[qa_pair['answer']]] + [bbox_map[box_id] for box_id in qa_pair['multiple_choices']]\n",
    "        bboxes = np.array(bboxes)\n",
    "        question = qa_pair['question']\n",
    "        relationship = qa_rel_map[qa_pair['qa_id']]\n",
    "        label = 0\n",
    "        processed_qa_pairs.append((bboxes, question, label, relationship))\n",
    "    \n",
    "    proposals = rpn_proposals[filename]\n",
    "    iminfo = dict(im_path=image_path, processed_qa_pairs=processed_qa_pairs, split=split, proposals=proposals)\n",
    "    imdb.append(iminfo)"
   ]
  },
  {
   "cell_type": "code",
   "execution_count": null,
   "metadata": {
    "collapsed": false
   },
   "outputs": [],
   "source": [
    "imdb_trn = [iminfo for iminfo in imdb if iminfo['split'] == 'train']\n",
    "imdb_val = [iminfo for iminfo in imdb if iminfo['split'] == 'val']\n",
    "imdb_tst = [iminfo for iminfo in imdb if iminfo['split'] == 'test']"
   ]
  },
  {
   "cell_type": "code",
   "execution_count": null,
   "metadata": {
    "collapsed": true
   },
   "outputs": [],
   "source": [
    "if not os.path.isdir('./exp-visual7w/data/imdb_attention'):\n",
    "    os.mkdir('./exp-visual7w/data/imdb_attention')"
   ]
  },
  {
   "cell_type": "code",
   "execution_count": null,
   "metadata": {
    "collapsed": true
   },
   "outputs": [],
   "source": [
    "util.io.save_numpy_obj(imdb_trn, './exp-visual7w/data/imdb_attention/imdb_trn.npy')\n",
    "util.io.save_numpy_obj(imdb_val, './exp-visual7w/data/imdb_attention/imdb_val.npy')\n",
    "util.io.save_numpy_obj(imdb_tst, './exp-visual7w/data/imdb_attention/imdb_tst.npy')"
   ]
  }
 ],
 "metadata": {
  "anaconda-cloud": {},
  "kernelspec": {
   "display_name": "Python [conda root]",
   "language": "python",
   "name": "conda-root-py"
  },
  "language_info": {
   "codemirror_mode": {
    "name": "ipython",
    "version": 3
   },
   "file_extension": ".py",
   "mimetype": "text/x-python",
   "name": "python",
   "nbconvert_exporter": "python",
   "pygments_lexer": "ipython3",
   "version": "3.5.1"
  }
 },
 "nbformat": 4,
 "nbformat_minor": 0
}
