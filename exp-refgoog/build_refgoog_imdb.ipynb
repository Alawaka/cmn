{
 "cells": [
  {
   "cell_type": "code",
   "execution_count": null,
   "metadata": {
    "collapsed": false
   },
   "outputs": [],
   "source": [
    "cd .."
   ]
  },
  {
   "cell_type": "code",
   "execution_count": null,
   "metadata": {
    "collapsed": true
   },
   "outputs": [],
   "source": [
    "import os\n",
    "import sys\n",
    "sys.path.append('./exp-refgoog/refgoog-dataset/google_refexp_py_lib/')\n",
    "from refexp import Refexp\n",
    "\n",
    "import tqdm\n",
    "import numpy as np\n",
    "\n",
    "import util.io"
   ]
  },
  {
   "cell_type": "code",
   "execution_count": null,
   "metadata": {
    "collapsed": false
   },
   "outputs": [],
   "source": [
    "# Specify datasets path.\n",
    "refexp_filename_trn='./exp-refgoog/refgoog-dataset/google_refexp_dataset_release/google_refexp_train_201511_coco_aligned.json'\n",
    "refexp_filename_val='./exp-refgoog/refgoog-dataset/google_refexp_dataset_release/google_refexp_val_201511_coco_aligned.json'\n",
    "coco_filename='./exp-refgoog/coco-dataset/annotations/instances_train2014.json'\n",
    "image_dir = './exp-refgoog/coco-dataset/images/train2014/'\n",
    "\n",
    "# Create Refexp instance.\n",
    "refexp_trn = Refexp(refexp_filename_trn, coco_filename)\n",
    "refexp_val = Refexp(refexp_filename_val, coco_filename)"
   ]
  },
  {
   "cell_type": "code",
   "execution_count": null,
   "metadata": {
    "collapsed": false
   },
   "outputs": [],
   "source": [
    "# imdb_format:\n",
    "#   a list of images\n",
    "# each image:\n",
    "#   a dict\n",
    "#   { \"image_path\": \"...\",\n",
    "#     \"regions\": [[[x1, y1, x2, y2], (sentence1, sentence2)], ...],\n",
    "#     \"proposals\": [[x1, y1, x2, y2], ...],\n",
    "#     \"misc\": {\"dataset\": \"coco\", ...} }\n",
    "\n",
    "def build_imdb_from_refexp(refexp, image_dir):\n",
    "    imdb = []\n",
    "\n",
    "    imgIds = refexp.getImgIds()\n",
    "    for n_img_id in tqdm.trange(len(imgIds)):\n",
    "        img_id = imgIds[n_img_id]\n",
    "        img = refexp.loadImgs(img_id)[0]\n",
    "        im_path = os.path.join(image_dir, img['file_name'])\n",
    "        \n",
    "        proposals = np.array([_convert_bbox(c['bounding_box']) for c in img['region_candidates']])\n",
    "        \n",
    "        regions = _load_refexp_regions(refexp, img_id)\n",
    "        misc = {\"dataset\": \"coco-G-Ref\", \"img_id\": img_id}\n",
    "        iminfo = {\"im_path\": im_path, \"regions\": regions, \"proposals\": proposals,\n",
    "                  \"misc\": misc}\n",
    "\n",
    "        imdb.append(iminfo)\n",
    "\n",
    "    return imdb\n",
    "\n",
    "def _convert_bbox(bbox_xywh):\n",
    "    x, y, w, h = bbox_xywh\n",
    "    return [x, y, x+w-1, y+h-1]\n",
    "\n",
    "def _load_refexp_regions(refexp, img_id):\n",
    "    ann_ids_gref = refexp.getAnnIds(img_id)\n",
    "    anns_gref = refexp.loadAnns(ann_ids_gref)\n",
    "    ann_ids_coco = refexp.coco.getAnnIds(img_id)\n",
    "    anns_coco = refexp.coco.loadAnns(ann_ids_coco)\n",
    "    \n",
    "    # Align refexp annotations to those in coco\n",
    "    anns_gref_map = {ann_ids_gref[n]: anns_gref[n] for n in range(len(ann_ids_gref))}\n",
    "    for n in range(len(ann_ids_coco)):\n",
    "        if ann_ids_coco[n] in anns_gref_map:\n",
    "            anns_coco[n]['refexp_ids'] = anns_gref_map[ann_ids_coco[n]]['refexp_ids']\n",
    "        else:\n",
    "            anns_coco[n]['refexp_ids'] = []\n",
    "    \n",
    "    # Collect all the ground-truth object bounding boxes from COCO\n",
    "    # Add language annotations to the bounding boxes\n",
    "    regions = [[_convert_bbox(ann['bbox']),\n",
    "                _load_refexp_sentences(refexp, ann['refexp_ids']),\n",
    "                ann['id']] for ann in anns_coco]\n",
    "    return regions\n",
    "\n",
    "def _load_refexp_sentences(refexp, refexp_ids):\n",
    "    exps = [e['raw'] for e in refexp.loadRefexps(refexp_ids)]\n",
    "    return exps"
   ]
  },
  {
   "cell_type": "code",
   "execution_count": null,
   "metadata": {
    "collapsed": false
   },
   "outputs": [],
   "source": [
    "imdb_trn = build_imdb_from_refexp(refexp_trn, image_dir)\n",
    "imdb_val = build_imdb_from_refexp(refexp_val, image_dir)"
   ]
  },
  {
   "cell_type": "code",
   "execution_count": null,
   "metadata": {
    "collapsed": false
   },
   "outputs": [],
   "source": [
    "if not os.path.isdir('./exp-refgoog/data/imdb'):\n",
    "    os.mkdir('./exp-refgoog/data/imdb')\n",
    "    \n",
    "util.io.save_numpy_obj(imdb_trn, './exp-refgoog/data/imdb/imdb_trn.npy')\n",
    "util.io.save_numpy_obj(imdb_val, './exp-refgoog/data/imdb/imdb_val.npy')"
   ]
  }
 ],
 "metadata": {
  "anaconda-cloud": {},
  "kernelspec": {
   "display_name": "Python [conda root]",
   "language": "python",
   "name": "conda-root-py"
  },
  "language_info": {
   "codemirror_mode": {
    "name": "ipython",
    "version": 3
   },
   "file_extension": ".py",
   "mimetype": "text/x-python",
   "name": "python",
   "nbconvert_exporter": "python",
   "pygments_lexer": "ipython3",
   "version": "3.5.1"
  }
 },
 "nbformat": 4,
 "nbformat_minor": 0
}
