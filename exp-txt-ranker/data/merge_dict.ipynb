{
 "cells": [
  {
   "cell_type": "code",
   "execution_count": 1,
   "metadata": {
    "collapsed": true
   },
   "outputs": [],
   "source": [
    "import os\n",
    "import numpy as np"
   ]
  },
  {
   "cell_type": "code",
   "execution_count": 2,
   "metadata": {
    "collapsed": true
   },
   "outputs": [],
   "source": [
    "ann1 = np.load('./image_ann_dict_flipped_attributes.npz')['im_name2ann'][()]\n",
    "ann2 = np.load('./image_ann_dict_remove_head_body.npz')['im_name2ann'][()]\n",
    "\n",
    "explanation_feat_dir = './explanation_feat/'"
   ]
  },
  {
   "cell_type": "code",
   "execution_count": 4,
   "metadata": {
    "collapsed": false,
    "scrolled": true
   },
   "outputs": [
    {
     "name": "stdout",
     "output_type": "stream",
     "text": [
      "file not exist: ./explanation_feat/remove_head/chop_head_Brandt_Cormorant_0009_22890.npz\n",
      "file not exist: ./explanation_feat/remove_head/chop_head_Red_Legged_Kittiwake_0004_73811.npz\n",
      "file not exist: ./explanation_feat/remove_head/chop_head_Least_Auklet_0007_795123.npz\n",
      "file not exist: ./explanation_feat/remove_head/chop_head_Black_Capped_Vireo_0002_797466.npz\n",
      "file not exist: ./explanation_feat/remove_head/chop_head_Crested_Auklet_0029_1824.npz\n",
      "file not exist: ./explanation_feat/remove_body/chop_body_Spotted_Catbird_0025_796819.npz\n",
      "file not exist: ./explanation_feat/remove_head/chop_head_Pelagic_Cormorant_0022_23802.npz\n",
      "file not exist: ./explanation_feat/remove_head/chop_head_Red_Faced_Cormorant_0052_796316.npz\n",
      "file not exist: ./explanation_feat/remove_head/chop_head_Brandt_Cormorant_0038_23110.npz\n",
      "file not exist: ./explanation_feat/remove_body/chop_body_Clark_Nutcracker_0020_85099.npz\n",
      "file not exist: ./explanation_feat/remove_head/chop_head_Brandt_Cormorant_0082_22978.npz\n",
      "file not exist: ./explanation_feat/remove_head/chop_head_Brandt_Cormorant_0070_23137.npz\n",
      "file not exist: ./explanation_feat/remove_body/chop_body_Slaty_Backed_Gull_0032_796046.npz\n",
      "file not exist: ./explanation_feat/remove_head/chop_head_Blue_Winged_Warbler_0032_162029.npz\n",
      "file not exist: ./explanation_feat/remove_head/chop_head_Crested_Auklet_0062_794968.npz\n",
      "file not exist: ./explanation_feat/remove_head/chop_head_Red_Faced_Cormorant_0036_796329.npz\n",
      "number of non-existance files: 16\n"
     ]
    }
   ],
   "source": [
    "# only keep those examples that have at least one pair\n",
    "unexist_count = 0\n",
    "\n",
    "ann_all = {}\n",
    "ann_flipped_attribute = {}\n",
    "ann_remove_head_body = {}\n",
    "for im_name in ann1:\n",
    "    if ann1[im_name]:\n",
    "        explanation_feat_file = os.path.join(explanation_feat_dir, im_name.replace('.jpg', '.npz'))\n",
    "        if not os.path.exists(explanation_feat_file):\n",
    "            print('file not exist:', explanation_feat_file)\n",
    "            unexist_count += 1\n",
    "            continue\n",
    "        ann_all[im_name] = ann1[im_name]\n",
    "        ann_flipped_attribute[im_name] = ann1[im_name]\n",
    "\n",
    "for im_name in ann2:\n",
    "    if ann2[im_name]:\n",
    "        explanation_feat_file = os.path.join(explanation_feat_dir, im_name.replace('.jpg', '.npz'))\n",
    "        if not os.path.exists(explanation_feat_file):\n",
    "            print('file not exist:', explanation_feat_file)\n",
    "            unexist_count += 1\n",
    "            continue\n",
    "        ann_all[im_name] = ann2[im_name]\n",
    "        ann_remove_head_body[im_name] = ann2[im_name]\n",
    "        \n",
    "print('number of non-existance files:', unexist_count)"
   ]
  },
  {
   "cell_type": "code",
   "execution_count": 5,
   "metadata": {
    "collapsed": true
   },
   "outputs": [],
   "source": [
    "np.savez('./image_ann_dict_ranker_all.npz', im_name2ann=ann_all)\n",
    "np.savez('./image_ann_dict_cleaned_flipped_attributes.npz', im_name2ann=ann_flipped_attribute)\n",
    "np.savez('./image_ann_dict_cleaned_remove_head_body.npz', im_name2ann=ann_remove_head_body)"
   ]
  },
  {
   "cell_type": "code",
   "execution_count": 6,
   "metadata": {
    "collapsed": false
   },
   "outputs": [
    {
     "name": "stdout",
     "output_type": "stream",
     "text": [
      "total number of training samples: 8488 4000 4488\n"
     ]
    }
   ],
   "source": [
    "print('total number of training samples:', len(ann_all), len(ann_flipped_attribute), len(ann_remove_head_body))"
   ]
  }
 ],
 "metadata": {
  "anaconda-cloud": {},
  "kernelspec": {
   "display_name": "Python [default]",
   "language": "python",
   "name": "python3"
  },
  "language_info": {
   "codemirror_mode": {
    "name": "ipython",
    "version": 3
   },
   "file_extension": ".py",
   "mimetype": "text/x-python",
   "name": "python",
   "nbconvert_exporter": "python",
   "pygments_lexer": "ipython3",
   "version": "3.5.1"
  }
 },
 "nbformat": 4,
 "nbformat_minor": 1
}
