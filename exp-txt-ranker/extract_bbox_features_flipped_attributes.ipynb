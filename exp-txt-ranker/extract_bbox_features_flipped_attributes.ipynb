{
 "cells": [
  {
   "cell_type": "code",
   "execution_count": null,
   "metadata": {
    "collapsed": false
   },
   "outputs": [],
   "source": [
    "import os; os.environ['CUDA_VISIBLE_DEVICES'] = '2'\n",
    "import detection_demo\n",
    "\n",
    "import numpy as np"
   ]
  },
  {
   "cell_type": "code",
   "execution_count": null,
   "metadata": {
    "collapsed": true
   },
   "outputs": [],
   "source": [
    "image_dir = './cub200-dataset/images/'\n",
    "ann_file = './data/image_ann_dict_flipped_attributes.npz'\n",
    "save_dir = './data/explanation_feat/'"
   ]
  },
  {
   "cell_type": "code",
   "execution_count": null,
   "metadata": {
    "collapsed": false
   },
   "outputs": [],
   "source": [
    "ann_dict = np.load(ann_file)['im_name2ann'][()]\n",
    "num_im = len(ann_dict)"
   ]
  },
  {
   "cell_type": "code",
   "execution_count": null,
   "metadata": {
    "collapsed": false
   },
   "outputs": [],
   "source": [
    "for n_im, im_name in enumerate(ann_dict):\n",
    "    print('processing %d / %d' % (n_im, num_im))\n",
    "    \n",
    "    im_path = os.path.join(image_dir, im_name)\n",
    "    save_path = os.path.join(save_dir, im_name.replace('.jpg', '.npz'))\n",
    "    os.makedirs(os.path.dirname(save_path), exist_ok=True)\n",
    "    \n",
    "    anns = ann_dict[im_name]\n",
    "    query_list = []\n",
    "    for ann in anns:\n",
    "        for phrase in ann['noun_phrases']:\n",
    "            query_list.append(phrase['phrase'])\n",
    "    query_list = list(set(query_list))\n",
    "    print('number of unique noun phrases:', len(query_list))\n",
    "    \n",
    "    proposal_bboxes, scores_val, im_visfeat, bbox_visfeat = \\\n",
    "        detection_demo.run_on_image(im_path, query_list)\n",
    "    scores_val = scores_val.reshape((len(query_list), len(proposal_bboxes)))\n",
    "    \n",
    "    pred_bbox_inds = np.argmax(scores_val, axis=1)\n",
    "    query_scores = [scores_val[n_q, pred_bbox_inds[n_q]] for n_q in range(len(query_list))]\n",
    "    query_visfeat = list(bbox_visfeat[pred_bbox_inds])\n",
    "    \n",
    "    query_dict = {query_list[n_q]: {'score': query_scores[n_q],\n",
    "                                    'visfeat': query_visfeat[n_q]}\n",
    "                  for n_q in range(len(query_list))}\n",
    "    \n",
    "    explanation_feat = {'im_visfeat': im_visfeat, 'query_dict': query_dict}\n",
    "    np.savez(save_path, explanation_feat=explanation_feat)"
   ]
  }
 ],
 "metadata": {
  "anaconda-cloud": {},
  "kernelspec": {
   "display_name": "Python [default]",
   "language": "python",
   "name": "python3"
  },
  "language_info": {
   "codemirror_mode": {
    "name": "ipython",
    "version": 3
   },
   "file_extension": ".py",
   "mimetype": "text/x-python",
   "name": "python",
   "nbconvert_exporter": "python",
   "pygments_lexer": "ipython3",
   "version": "3.5.1"
  }
 },
 "nbformat": 4,
 "nbformat_minor": 1
}
